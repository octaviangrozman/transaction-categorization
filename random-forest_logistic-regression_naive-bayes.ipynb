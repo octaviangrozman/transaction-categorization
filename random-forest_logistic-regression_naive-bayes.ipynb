{
  "nbformat": 4,
  "nbformat_minor": 0,
  "metadata": {
    "colab": {
      "name": "Transaction Categorization.ipynb",
      "provenance": []
    },
    "kernelspec": {
      "name": "python3",
      "display_name": "Python 3"
    }
  },
  "cells": [
    {
      "cell_type": "code",
      "metadata": {
        "colab": {
          "base_uri": "https://localhost:8080/",
          "height": 202
        },
        "id": "M8KPuLiXPG0y",
        "outputId": "d3e192f5-cba4-4b83-b677-669cbe4434b0"
      },
      "source": [
        "import pandas as pd\r\n",
        "import numpy as np\r\n",
        "dataset = pd.read_csv('transactions_dataset.csv')\r\n",
        "dataset.head()"
      ],
      "execution_count": 1,
      "outputs": [
        {
          "output_type": "execute_result",
          "data": {
            "text/html": [
              "<div>\n",
              "<style scoped>\n",
              "    .dataframe tbody tr th:only-of-type {\n",
              "        vertical-align: middle;\n",
              "    }\n",
              "\n",
              "    .dataframe tbody tr th {\n",
              "        vertical-align: top;\n",
              "    }\n",
              "\n",
              "    .dataframe thead th {\n",
              "        text-align: right;\n",
              "    }\n",
              "</style>\n",
              "<table border=\"1\" class=\"dataframe\">\n",
              "  <thead>\n",
              "    <tr style=\"text-align: right;\">\n",
              "      <th></th>\n",
              "      <th>Text</th>\n",
              "      <th>CategoryId</th>\n",
              "    </tr>\n",
              "  </thead>\n",
              "  <tbody>\n",
              "    <tr>\n",
              "      <th>0</th>\n",
              "      <td>Lidl                 ))))</td>\n",
              "      <td>2</td>\n",
              "    </tr>\n",
              "    <tr>\n",
              "      <th>1</th>\n",
              "      <td>Deposit Rent</td>\n",
              "      <td>1</td>\n",
              "    </tr>\n",
              "    <tr>\n",
              "      <th>2</th>\n",
              "      <td>McDonalds Banegaards ))))</td>\n",
              "      <td>3</td>\n",
              "    </tr>\n",
              "    <tr>\n",
              "      <th>3</th>\n",
              "      <td>McDonalds Banegaards ))))</td>\n",
              "      <td>3</td>\n",
              "    </tr>\n",
              "    <tr>\n",
              "      <th>4</th>\n",
              "      <td>Burger Shack Horsens ))))</td>\n",
              "      <td>3</td>\n",
              "    </tr>\n",
              "  </tbody>\n",
              "</table>\n",
              "</div>"
            ],
            "text/plain": [
              "                        Text  CategoryId\n",
              "0  Lidl                 ))))           2\n",
              "1               Deposit Rent           1\n",
              "2  McDonalds Banegaards ))))           3\n",
              "3  McDonalds Banegaards ))))           3\n",
              "4  Burger Shack Horsens ))))           3"
            ]
          },
          "metadata": {
            "tags": []
          },
          "execution_count": 1
        }
      ]
    },
    {
      "cell_type": "code",
      "metadata": {
        "colab": {
          "base_uri": "https://localhost:8080/"
        },
        "id": "ie_CcGuYSKzQ",
        "outputId": "4fbc0323-9e08-469a-b70b-cd6c38d49673"
      },
      "source": [
        "import nltk\r\n",
        "nltk.download('stopwords')"
      ],
      "execution_count": 2,
      "outputs": [
        {
          "output_type": "stream",
          "text": [
            "[nltk_data] Downloading package stopwords to /root/nltk_data...\n",
            "[nltk_data]   Package stopwords is already up-to-date!\n"
          ],
          "name": "stdout"
        },
        {
          "output_type": "execute_result",
          "data": {
            "text/plain": [
              "True"
            ]
          },
          "metadata": {
            "tags": []
          },
          "execution_count": 2
        }
      ]
    },
    {
      "cell_type": "code",
      "metadata": {
        "id": "Sc-DqBA3SQoG"
      },
      "source": [
        "# Cleaning the texts\r\n",
        "import re\r\n",
        "from nltk.corpus import stopwords\r\n",
        "from nltk.stem.porter import PorterStemmer\r\n",
        "\r\n",
        "corpus = []\r\n",
        "number_of_rows = dataset.shape[0]\r\n",
        "for i in range(0, number_of_rows): \r\n",
        "    text = re.sub('[^a-zA-Z0-9]', ' ', dataset['Text'][i]) # use regex to remove all non-alphabetical symbols\r\n",
        "    text = text.lower()\r\n",
        "    text = text.split()\r\n",
        "    ps = PorterStemmer()\r\n",
        "    text = [ps.stem(word) for word in text if not word in set(stopwords.words('english'))]\r\n",
        "    text = [ps.stem(word) for word in text if not word in set(stopwords.words('danish'))]\r\n",
        "    text = ' '.join(text)\r\n",
        "    corpus.append(text)\r\n",
        "\r\n",
        "# MORE OPTIONS: \r\n",
        "# 1) remove parts of the string which may contain sensitive information (e.g. contract number) or\r\n",
        "#    is described in other features (e.g. date, transaction amount)"
      ],
      "execution_count": 3,
      "outputs": []
    },
    {
      "cell_type": "code",
      "metadata": {
        "id": "R13HcF-xSab_"
      },
      "source": [
        "# Creating the Bag of Words model\r\n",
        "from sklearn.feature_extraction.text import CountVectorizer\r\n",
        "cv = CountVectorizer(max_features = 200)\r\n",
        "X = cv.fit_transform(corpus).toarray()\r\n",
        "y = dataset.iloc[:, 1]\r\n",
        "\r\n",
        "# Splitting the dataset into the Training set and Test set\r\n",
        "from sklearn.model_selection import train_test_split\r\n",
        "X_train, X_test, y_train, y_test = train_test_split(X, y, test_size = 0.2, random_state = 0)"
      ],
      "execution_count": 4,
      "outputs": []
    },
    {
      "cell_type": "code",
      "metadata": {
        "colab": {
          "base_uri": "https://localhost:8080/"
        },
        "id": "ai1vOP6rE3ql",
        "outputId": "a3fb6b3a-9292-461a-eba9-1977f3b5ffc0"
      },
      "source": [
        "# Fitting Naive Bayes to the Training set\r\n",
        "from sklearn.naive_bayes import GaussianNB\r\n",
        "classifier = GaussianNB()\r\n",
        "classifier.fit(X_train, y_train)\r\n",
        "\r\n",
        "# Predicting the Test set results\r\n",
        "y_pred = classifier.predict(X_test)\r\n",
        "\r\n",
        "# Making the Confusion Matrix\r\n",
        "from sklearn.metrics import confusion_matrix, accuracy_score\r\n",
        "cm = confusion_matrix(y_test, y_pred)\r\n",
        "acc = accuracy_score(y_test, y_pred)\r\n",
        "acc"
      ],
      "execution_count": 5,
      "outputs": [
        {
          "output_type": "execute_result",
          "data": {
            "text/plain": [
              "0.905511811023622"
            ]
          },
          "metadata": {
            "tags": []
          },
          "execution_count": 5
        }
      ]
    },
    {
      "cell_type": "code",
      "metadata": {
        "colab": {
          "base_uri": "https://localhost:8080/"
        },
        "id": "3DkW1ZXTpIe0",
        "outputId": "612be6ad-78ec-4e02-f6e2-92242ec925f8"
      },
      "source": [
        "## Logistic regression classification\r\n",
        "from sklearn.linear_model import LogisticRegression\r\n",
        "classifier = LogisticRegression()\r\n",
        "classifier.fit(X_train, y_train)\r\n",
        "\r\n",
        "# Predicting the Test set results\r\n",
        "y_pred = classifier.predict(X_test)\r\n",
        "\r\n",
        "# Making the Confusion Matrix\r\n",
        "from sklearn.metrics import confusion_matrix, accuracy_score\r\n",
        "cm = confusion_matrix(y_test, y_pred)\r\n",
        "acc = accuracy_score(y_test, y_pred)\r\n",
        "acc"
      ],
      "execution_count": 6,
      "outputs": [
        {
          "output_type": "execute_result",
          "data": {
            "text/plain": [
              "0.9212598425196851"
            ]
          },
          "metadata": {
            "tags": []
          },
          "execution_count": 6
        }
      ]
    },
    {
      "cell_type": "code",
      "metadata": {
        "colab": {
          "base_uri": "https://localhost:8080/"
        },
        "id": "nQwoNm8mFmPJ",
        "outputId": "b174ee35-c514-445e-fa3b-73c745f82ecf"
      },
      "source": [
        "## Random forest tree classification\r\n",
        "# Fitting Random Forest Classification to the Training set\r\n",
        "from sklearn.ensemble import RandomForestClassifier\r\n",
        "classifier = RandomForestClassifier(n_estimators = 10, criterion = 'entropy', random_state = 0)\r\n",
        "classifier.fit(X_train, y_train)\r\n",
        "\r\n",
        "# Predicting the Test set results\r\n",
        "y_pred = classifier.predict(X_test)\r\n",
        "\r\n",
        "# Making the Confusion Matrix\r\n",
        "from sklearn.metrics import confusion_matrix, accuracy_score\r\n",
        "cm = confusion_matrix(y_test, y_pred)\r\n",
        "acc = accuracy_score(y_test, y_pred)\r\n",
        "acc"
      ],
      "execution_count": 7,
      "outputs": [
        {
          "output_type": "execute_result",
          "data": {
            "text/plain": [
              "0.937007874015748"
            ]
          },
          "metadata": {
            "tags": []
          },
          "execution_count": 7
        }
      ]
    },
    {
      "cell_type": "code",
      "metadata": {
        "id": "N_d9Bc6-FsgW"
      },
      "source": [
        "categories = {\r\n",
        "    0:'Automobile and Transport',\r\n",
        "    1:'Housing and Real-Estate',\r\n",
        "    2:'Groceries',\r\n",
        "    3:'Recreation and Leisure',\r\n",
        "    4:'Health and Well Being',\r\n",
        "    5:'Hobby and Knowledge',\r\n",
        "    6:'Clothes and Equipment',\r\n",
        "    7:'Cash and Credit',\r\n",
        "    8:'Financial Services',\r\n",
        "    9:'Other'\r\n",
        "}\r\n",
        "\r\n",
        "def get_category_by_id(id):\r\n",
        "    return categories[id];"
      ],
      "execution_count": 8,
      "outputs": []
    },
    {
      "cell_type": "code",
      "metadata": {
        "id": "rEwqFzeCIz4F",
        "colab": {
          "base_uri": "https://localhost:8080/"
        },
        "outputId": "cadedc48-6039-4766-d510-e844e97eee58"
      },
      "source": [
        "inputs = ['lidl', 'netto ))', 'netflix', 'kfc', 'rent']\r\n",
        "predictions = classifier.predict(cv.transform(inputs))\r\n",
        "{ inputs[id]: get_category_by_id(predictions[id]) for id in range(predictions.size) }"
      ],
      "execution_count": 9,
      "outputs": [
        {
          "output_type": "execute_result",
          "data": {
            "text/plain": [
              "{'kfc': 'Other',\n",
              " 'lidl': 'Groceries',\n",
              " 'netflix': 'Other',\n",
              " 'netto ))': 'Groceries',\n",
              " 'rent': 'Housing and Real-Estate'}"
            ]
          },
          "metadata": {
            "tags": []
          },
          "execution_count": 9
        }
      ]
    },
    {
      "cell_type": "code",
      "metadata": {
        "id": "IMEbTiNzjZ1w"
      },
      "source": [
        ""
      ],
      "execution_count": 9,
      "outputs": []
    }
  ]
}